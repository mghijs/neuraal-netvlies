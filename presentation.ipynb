{
 "cells": [
  {
   "cell_type": "markdown",
   "metadata": {
    "nbpresent": {
     "id": "62d7353d-f855-4909-b1c6-0edb3891decd"
    },
    "slideshow": {
     "slide_type": "slide"
    }
   },
   "source": [
    "Machine Learning for Image Processing\n",
    "==="
   ]
  },
  {
   "cell_type": "markdown",
   "metadata": {
    "collapsed": true,
    "nbpresent": {
     "id": "8e248491-245d-4244-a9fe-fe19c299cb7c"
    },
    "slideshow": {
     "slide_type": "-"
    }
   },
   "source": [
    "## Contents\n",
    "1. ML applications within image processing\n",
    "2. Main method: Convolutional Neural Networks\n",
    "3. Other methods??\n",
    "4. Application"
   ]
  },
  {
   "cell_type": "markdown",
   "metadata": {
    "nbpresent": {
     "id": "7f23e529-fac6-4be1-9c8a-0cd47907827a"
    },
    "slideshow": {
     "slide_type": "slide"
    }
   },
   "source": [
    "# ML applications within Image Processing\n",
    "\n",
    "\n",
    "\n",
    "\n"
   ]
  },
  {
   "cell_type": "markdown",
   "metadata": {
    "nbpresent": {
     "id": "ac9379cf-2af6-41c4-81ad-239d907c8af2"
    },
    "slideshow": {
     "slide_type": "-"
    }
   },
   "source": [
    "![](./figures/imageProcessingChain.png)"
   ]
  },
  {
   "cell_type": "code",
   "execution_count": null,
   "metadata": {
    "collapsed": true
   },
   "outputs": [],
   "source": []
  },
  {
   "cell_type": "code",
   "execution_count": null,
   "metadata": {
    "collapsed": true
   },
   "outputs": [],
   "source": []
  },
  {
   "cell_type": "code",
   "execution_count": null,
   "metadata": {
    "collapsed": true
   },
   "outputs": [],
   "source": []
  },
  {
   "cell_type": "code",
   "execution_count": null,
   "metadata": {
    "collapsed": true
   },
   "outputs": [],
   "source": []
  },
  {
   "cell_type": "code",
   "execution_count": null,
   "metadata": {
    "collapsed": true
   },
   "outputs": [],
   "source": []
  },
  {
   "cell_type": "markdown",
   "metadata": {},
   "source": [
    "# Application"
   ]
  },
  {
   "cell_type": "markdown",
   "metadata": {},
   "source": [
    "## Creating database: retrieving pictures from websites\n",
    "In this case we use the Dutch database of indigenous higher organisms: [soortenbank.nl](soortenbank.nl)"
   ]
  },
  {
   "cell_type": "markdown",
   "metadata": {},
   "source": [
    "### Imports"
   ]
  },
  {
   "cell_type": "code",
   "execution_count": 5,
   "metadata": {
    "ExecuteTime": {
     "end_time": "2016-11-29T14:38:38.777478",
     "start_time": "2016-11-29T14:38:38.767904"
    },
    "collapsed": true,
    "init_cell": false
   },
   "outputs": [],
   "source": [
    "import urllib2\n",
    "import pandas as pd\n",
    "import numpy as np\n",
    "from bs4 import BeautifulSoup\n",
    "# for plotting\n",
    "import matplotlib.pyplot as plt\n",
    "%matplotlib inline\n",
    "import seaborn as sns\n",
    "sns.set_style('whitegrid')"
   ]
  },
  {
   "cell_type": "markdown",
   "metadata": {},
   "source": [
    "### Navigation\n",
    "Base variables needed for navigation through Soortenbank"
   ]
  },
  {
   "cell_type": "code",
   "execution_count": null,
   "metadata": {
    "ExecuteTime": {
     "end_time": "2016-11-29T10:41:27.722037",
     "start_time": "2016-11-29T10:41:27.571165"
    },
    "collapsed": false
   },
   "outputs": [],
   "source": [
    "# base url of the dutch indigenous species database\n",
    "base_url = 'http://soortenbank.nl/'\n",
    "# when fetching the links to the plant species individual pages, append '&tab=multimedia' to navigate straight to the photos\n",
    "link_to_photos = '&tab=multimedia'\n",
    "# link to where all the PLANT species are listed\n",
    "plant_base_url = 'http://soortenbank.nl/hoofdgroepen.php?groep=Planten&selectie=2&hoofdgroepen_pad=%2C2'\n",
    "# open this page with urllib2\n",
    "pagina = urllib2.urlopen(plant_base_url)\n",
    "# get all the html-code of the page with BeautifulSoup\n",
    "soup = BeautifulSoup(pagina.read(), \"lxml\")\n",
    "# soup is a BeautifulSoup object, which represents the document as a nested data structure\n",
    "\n",
    "# initialise python dictionary for number of photos for every plant species\n",
    "nPhotosPerPlant = {}"
   ]
  },
  {
   "cell_type": "markdown",
   "metadata": {},
   "source": [
    "### Example of species on one page"
   ]
  },
  {
   "cell_type": "raw",
   "metadata": {
    "ExecuteTime": {
     "end_time": "2016-11-29T09:44:42.993000",
     "start_time": "2016-11-29T09:44:40.749000"
    },
    "collapsed": false
   },
   "source": [
    "# get the location of the links to the plants displayed on soortenbank\n",
    "# these are in paragraphs ('p') with style=margin-top:2px; margin-bottom:2px\n",
    "for newLinkLoc in soup('p', {'style': 'margin-top:2px; margin-bottom:2px'}):\n",
    "    # the name of the plant is displayed as the contents of the link\n",
    "    plantKey = newLinkLoc.a.contents\n",
    "    # using the href in the link to construct the link to the plant individual page, tab Multimedia\n",
    "    plantLink = base_url + newLinkLoc.a.attrs['href'] + link_to_photos\n",
    "\n",
    "    plantPhotosPage = BeautifulSoup(urllib2.urlopen(plantLink).read(), \"lxml\")\n",
    "    plantPics = plantPhotosPage('p',{ 'style': 'margin-top:12px'})[0].find_all('a')\n",
    "    nPhotosPerPlant[plantKey[0].string] = len(plantPics)\n",
    "    \n",
    "nextPageLink = soup('a', {'title': 'Volgende 12 soorten planten'})[0].attrs['href']"
   ]
  },
  {
   "cell_type": "markdown",
   "metadata": {},
   "source": [
    "### Retrieve all the species\n",
    "Go through the plant database on soortenbank and check number of pictures available per species"
   ]
  },
  {
   "cell_type": "raw",
   "metadata": {
    "ExecuteTime": {
     "end_time": "2016-11-29T10:50:12.513117",
     "start_time": "2016-11-29T10:45:12.357473"
    },
    "collapsed": false
   },
   "source": [
    "#### For the first page\n",
    "# get the location of the links to the plants displayed on soortenbank\n",
    "# these are in paragraphs ('p') with style=margin-top:2px; margin-bottom:2px\n",
    "for newLinkLoc in soup('p', {'style': 'margin-top:2px; margin-bottom:2px'}):\n",
    "    # the name of the plant is displayed as the contents of the link\n",
    "    plantKey = newLinkLoc.a.contents\n",
    "    # using the href in the link to construct the link to the plant individual page, tab Multimedia\n",
    "    plantLink = base_url + newLinkLoc.a.attrs['href'] + link_to_photos\n",
    "\n",
    "    plantPhotosPage = BeautifulSoup(urllib2.urlopen(plantLink).read(), \"lxml\")\n",
    "    plantPics = plantPhotosPage('p',{ 'style': 'margin-top:12px'})[0].find_all('a')\n",
    "    nPhotosPerPlant[plantKey[0].string] = len(plantPics)\n",
    "    \n",
    "#### Now move on to next pages\n",
    "nextPageLink = soup('a', {'title': 'Volgende 12 soorten planten'})\n",
    "while len(nextPageLink)==1: #as long as we can go to the next page\n",
    "    print len(nPhotosPerPlant)\n",
    "    soup = BeautifulSoup(urllib2.urlopen(base_url+nextPageLink[0].attrs['href']).read(), \"lxml\")\n",
    "    # get the location of the links to the plants displayed on soortenbank\n",
    "    # these are in paragraphs ('p') with style=margin-top:2px; margin-bottom:2px\n",
    "    for newLinkLoc in soup('p', {'style': 'margin-top:2px; margin-bottom:2px'}):\n",
    "        # the name of the plant is displayed as the contents of the link\n",
    "        plantKey = newLinkLoc.a.contents\n",
    "        # using the href in the link to construct the link to the plant individual page, tab Multimedia\n",
    "        plantLink = base_url + newLinkLoc.a.attrs['href'] + link_to_photos\n",
    "\n",
    "        plantPhotosPage = BeautifulSoup(urllib2.urlopen(plantLink).read(), \"lxml\")\n",
    "        plantPics = plantPhotosPage('p',{ 'style': 'margin-top:12px'})[0].find_all('a')\n",
    "        nPhotosPerPlant[plantKey[0].string] = len(plantPics)\n",
    "\n",
    "    nextPageLink = soup('a', {'title': 'Volgende 12 soorten planten'})"
   ]
  },
  {
   "cell_type": "markdown",
   "metadata": {},
   "source": [
    "We do not want to run this everytime, so we saved the number of pics per species to a `.csv`-file"
   ]
  },
  {
   "cell_type": "raw",
   "metadata": {
    "ExecuteTime": {
     "end_time": "2016-11-29T13:44:34.488763",
     "start_time": "2016-11-29T13:44:34.399230"
    },
    "collapsed": true
   },
   "source": [
    "srPicsSpecies = pd.Series(nPhotosPerPlant, name='picturesPerSpecies_soortenbank')\n",
    "srPicsSpecies.to_csv('picturesPerSpecies_soortenbank.csv', encoding='utf-8') # there is a trema in one of the names, hence the encoding argument"
   ]
  },
  {
   "cell_type": "markdown",
   "metadata": {},
   "source": [
    "Read the file and display histogram (and save to a `.png`-file)"
   ]
  },
  {
   "cell_type": "raw",
   "metadata": {
    "ExecuteTime": {
     "end_time": "2016-11-29T14:46:48.024559",
     "start_time": "2016-11-29T14:46:47.628409"
    },
    "collapsed": false
   },
   "source": [
    "srPicsSpecies = pd.read_csv('picturesPerSpecies_soortenbank.csv')\n",
    "picHisto = srPicsSpecies.hist()\n",
    "plt.title('aantal foto\\'s per plantensoort op soortenbank.nl')\n",
    "plt.xlabel('foto\\'s per soort')\n",
    "plt.ylabel('aantal soorten')\n",
    "# plt.savefig('soortenbankFotosPerSoort.png')"
   ]
  },
  {
   "cell_type": "markdown",
   "metadata": {},
   "source": [
    "### Conclusion\n",
    "The Soortenbank contains on average 4 to 5 pics per plant species and maximum 10, which is way too low to train a NN to.\n",
    "![species](figures/soortenbankFotosPerSoort.png)"
   ]
  },
  {
   "cell_type": "code",
   "execution_count": null,
   "metadata": {
    "collapsed": true
   },
   "outputs": [],
   "source": []
  }
 ],
 "metadata": {
  "anaconda-cloud": {},
  "celltoolbar": "Initialisation Cell",
  "kernelspec": {
   "display_name": "Python [conda env:PBM_plusTF_NEW]",
   "language": "python",
   "name": "conda-env-PBM_plusTF_NEW-py"
  },
  "language_info": {
   "codemirror_mode": {
    "name": "ipython",
    "version": 2
   },
   "file_extension": ".py",
   "mimetype": "text/x-python",
   "name": "python",
   "nbconvert_exporter": "python",
   "pygments_lexer": "ipython2",
   "version": "2.7.12"
  },
  "latex_envs": {
   "bibliofile": "biblio.bib",
   "cite_by": "apalike",
   "current_citInitial": 1,
   "eqLabelWithNumbers": true,
   "eqNumInitial": 0
  },
  "nav_menu": {},
  "nbpresent": {
   "slides": {
    "03eebf58-dcd4-40d3-9992-9b23cf421835": {
     "id": "03eebf58-dcd4-40d3-9992-9b23cf421835",
     "prev": "bebe6001-6a43-4bd5-9e4f-2504b6534968",
     "regions": {
      "59a29b0e-486d-4c19-9d6f-202a71bb11b0": {
       "attrs": {
        "height": 0.8,
        "width": 0.8,
        "x": 0.09904300566003586,
        "y": 0.09489603018685788
       },
       "id": "59a29b0e-486d-4c19-9d6f-202a71bb11b0"
      },
      "a98f23a9-d833-4a43-a27f-03ef06197d83": {
       "attrs": {
        "height": 0.6536861986899272,
        "width": 0.8,
        "x": 0.1,
        "y": 0.24631380131007294
       },
       "content": {
        "cell": "ac9379cf-2af6-41c4-81ad-239d907c8af2",
        "part": "source"
       },
       "id": "a98f23a9-d833-4a43-a27f-03ef06197d83"
      },
      "ba4e3cdc-b955-47b4-8bdc-4f27c53688f6": {
       "attrs": {
        "height": 0.14083174812108346,
        "width": 0.8057301489872797,
        "x": 0.09665642833637811,
        "y": 0.09697542644969949
       },
       "content": {
        "cell": "7f23e529-fac6-4be1-9c8a-0cd47907827a",
        "part": "source"
       },
       "id": "ba4e3cdc-b955-47b4-8bdc-4f27c53688f6"
      }
     }
    },
    "bebe6001-6a43-4bd5-9e4f-2504b6534968": {
     "id": "bebe6001-6a43-4bd5-9e4f-2504b6534968",
     "prev": null,
     "regions": {
      "1af61b4c-5155-4033-877b-05952b844807": {
       "attrs": {
        "height": 0.5209829835482331,
        "width": 0.8,
        "x": 0.10287098301989242,
        "y": 0.37391304663862485
       },
       "content": {
        "cell": "8e248491-245d-4244-a9fe-fe19c299cb7c",
        "part": "source"
       },
       "id": "1af61b4c-5155-4033-877b-05952b844807"
      },
      "2254e22d-1fd6-4414-a289-fbc86398de71": {
       "attrs": {
        "height": 0.4,
        "width": 0.8,
        "x": 0.10095699433996413,
        "y": 0.0967863847617758
       },
       "content": {
        "cell": "62d7353d-f855-4909-b1c6-0edb3891decd",
        "part": "source"
       },
       "id": "2254e22d-1fd6-4414-a289-fbc86398de71"
      },
      "dbfc8542-a473-4b7c-a4c9-0a65d3f98c38": {
       "attrs": {
        "height": 0.8,
        "width": 0.8,
        "x": 0.1,
        "y": 0.1
       },
       "id": "dbfc8542-a473-4b7c-a4c9-0a65d3f98c38"
      }
     },
     "theme": null
    }
   },
   "themes": {
    "default": "fe4340fa-c11d-448d-9b6c-865695bf855c",
    "theme": {
     "fe4340fa-c11d-448d-9b6c-865695bf855c": {
      "backgrounds": {
       "backgroundColor": {
        "background-color": "backgroundColor",
        "id": "backgroundColor"
       }
      },
      "id": "fe4340fa-c11d-448d-9b6c-865695bf855c",
      "palette": {
       "backgroundColor": {
        "id": "backgroundColor",
        "rgb": [
         17,
         17,
         17
        ]
       },
       "headingColor": {
        "id": "headingColor",
        "rgb": [
         238,
         238,
         238
        ]
       },
       "linkColor": {
        "id": "linkColor",
        "rgb": [
         231,
         173,
         82
        ]
       },
       "mainColor": {
        "id": "mainColor",
        "rgb": [
         238,
         238,
         238
        ]
       }
      },
      "rules": {
       "a": {
        "color": "linkColor"
       },
       "h1": {
        "color": "headingColor",
        "font-family": "Montserrat",
        "font-size": 7
       },
       "h2": {
        "color": "headingColor",
        "font-family": "Montserrat",
        "font-size": 5
       },
       "h3": {
        "color": "headingColor",
        "font-family": "Montserrat",
        "font-size": 3.75
       },
       "h4": {
        "color": "headingColor",
        "font-family": "Montserrat",
        "font-size": 3
       },
       "h5": {
        "color": "headingColor",
        "font-family": "Montserrat"
       },
       "h6": {
        "color": "headingColor",
        "font-family": "Montserrat"
       },
       "h7": {
        "color": "headingColor",
        "font-family": "Montserrat"
       },
       "li": {
        "color": "mainColor",
        "font-family": "Open Sans",
        "font-size": 4
       },
       "p": {
        "color": "mainColor",
        "font-family": "Open Sans",
        "font-size": 4
       }
      },
      "text-base": {
       "color": "mainColor",
       "font-family": "Open Sans",
       "font-size": 4
      }
     }
    }
   }
  },
  "toc": {
   "navigate_menu": true,
   "number_sections": false,
   "sideBar": true,
   "threshold": 6,
   "toc_cell": false,
   "toc_section_display": "block",
   "toc_window_display": false
  }
 },
 "nbformat": 4,
 "nbformat_minor": 0
}
