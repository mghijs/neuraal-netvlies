{
 "cells": [
  {
   "cell_type": "markdown",
   "metadata": {},
   "source": [
    "Machine Learning for Image Processing\n",
    "===\n",
    "\n",
    "![cat](./figures/inceptionism-neural-network-cat.jpg)"
   ]
  },
  {
   "cell_type": "markdown",
   "metadata": {
    "slideshow": {
     "slide_type": "subslide"
    },
    "toc": "true"
   },
   "source": [
    "# Table of Contents\n",
    " <p><div class=\"lev1 toc-item\"><a href=\"#Machine-Learning-for-Image-Processing\" data-toc-modified-id=\"Machine-Learning-for-Image-Processing-1\"><span class=\"toc-item-num\">1&nbsp;&nbsp;</span>Machine Learning for Image Processing</a></div><div class=\"lev1 toc-item\"><a href=\"#From-cable-transmission-to-far-beyond:-applications-and-evolution-of-image-processing\" data-toc-modified-id=\"From-cable-transmission-to-far-beyond:-applications-and-evolution-of-image-processing-2\"><span class=\"toc-item-num\">2&nbsp;&nbsp;</span>From cable transmission to far beyond: applications and evolution of image processing</a></div><div class=\"lev2 toc-item\"><a href=\"#Early-digital-image-processing\" data-toc-modified-id=\"Early-digital-image-processing-2.1\"><span class=\"toc-item-num\">2.1&nbsp;&nbsp;</span>Early digital image processing</a></div><div class=\"lev2 toc-item\"><a href=\"#Today:-automated-image-processing\" data-toc-modified-id=\"Today:-automated-image-processing-2.2\"><span class=\"toc-item-num\">2.2&nbsp;&nbsp;</span>Today: automated image processing</a></div><div class=\"lev1 toc-item\"><a href=\"#From-human-vision-to-computer-vision:-principles-and-mechanisms\" data-toc-modified-id=\"From-human-vision-to-computer-vision:-principles-and-mechanisms-3\"><span class=\"toc-item-num\">3&nbsp;&nbsp;</span>From human vision to computer vision: principles and mechanisms</a></div><div class=\"lev2 toc-item\"><a href=\"#Image-Processing-Chain\" data-toc-modified-id=\"Image-Processing-Chain-3.1\"><span class=\"toc-item-num\">3.1&nbsp;&nbsp;</span>Image Processing Chain</a></div><div class=\"lev1 toc-item\"><a href=\"#Application\" data-toc-modified-id=\"Application-4\"><span class=\"toc-item-num\">4&nbsp;&nbsp;</span>Application</a></div><div class=\"lev2 toc-item\"><a href=\"#Creating-database:-retrieving-pictures-from-websites\" data-toc-modified-id=\"Creating-database:-retrieving-pictures-from-websites-4.1\"><span class=\"toc-item-num\">4.1&nbsp;&nbsp;</span>Creating database: retrieving pictures from websites</a></div><div class=\"lev3 toc-item\"><a href=\"#Imports\" data-toc-modified-id=\"Imports-4.1.1\"><span class=\"toc-item-num\">4.1.1&nbsp;&nbsp;</span>Imports</a></div><div class=\"lev3 toc-item\"><a href=\"#Navigation\" data-toc-modified-id=\"Navigation-4.1.2\"><span class=\"toc-item-num\">4.1.2&nbsp;&nbsp;</span>Navigation</a></div><div class=\"lev3 toc-item\"><a href=\"#Example-of-species-on-one-page\" data-toc-modified-id=\"Example-of-species-on-one-page-4.1.3\"><span class=\"toc-item-num\">4.1.3&nbsp;&nbsp;</span>Example of species on one page</a></div><div class=\"lev3 toc-item\"><a href=\"#Retrieve-all-the-species\" data-toc-modified-id=\"Retrieve-all-the-species-4.1.4\"><span class=\"toc-item-num\">4.1.4&nbsp;&nbsp;</span>Retrieve all the species</a></div><div class=\"lev3 toc-item\"><a href=\"#Conclusion\" data-toc-modified-id=\"Conclusion-4.1.5\"><span class=\"toc-item-num\">4.1.5&nbsp;&nbsp;</span>Conclusion</a></div>"
   ]
  },
  {
   "cell_type": "raw",
   "metadata": {
    "collapsed": true,
    "slideshow": {
     "slide_type": "skip"
    }
   },
   "source": [
    "## Contents\n",
    "1. From cable transmission to far beyond: applications and evolution of image processing\n",
    "2. From human vision to computer vision: principles, mechanisms \n",
    "    1. Preprocessing\n",
    "    2. Data reduction\n",
    "    3. Segmentation\n",
    "    4. Object recognition\n",
    "    5. Image understanding\n",
    "    6. Optimisation\n",
    "3. Copying the brain with Machine Learning: Neural Networks"
   ]
  },
  {
   "cell_type": "markdown",
   "metadata": {
    "slideshow": {
     "slide_type": "slide"
    }
   },
   "source": [
    "# From cable transmission to far beyond: applications and evolution of image processing"
   ]
  },
  {
   "cell_type": "markdown",
   "metadata": {
    "slideshow": {
     "slide_type": "fragment"
    }
   },
   "source": [
    "## Early digital image processing\n",
    "![Bartlane picture transmission](./figures/Bartlane.jpg)"
   ]
  },
  {
   "cell_type": "markdown",
   "metadata": {
    "slideshow": {
     "slide_type": "subslide"
    }
   },
   "source": [
    "## Today: automated image processing\n",
    "![flitspaal](./figures/superflitspaal.jpg)"
   ]
  },
  {
   "cell_type": "markdown",
   "metadata": {
    "slideshow": {
     "slide_type": "slide"
    }
   },
   "source": [
    "# From human vision to computer vision: principles and mechanisms"
   ]
  },
  {
   "cell_type": "markdown",
   "metadata": {
    "nbpresent": {
     "id": "ac9379cf-2af6-41c4-81ad-239d907c8af2"
    },
    "slideshow": {
     "slide_type": "-"
    }
   },
   "source": [
    "![](./figures/see_brain.jpg)"
   ]
  },
  {
   "cell_type": "markdown",
   "metadata": {
    "slideshow": {
     "slide_type": "subslide"
    }
   },
   "source": [
    "## Image Processing Chain"
   ]
  },
  {
   "cell_type": "markdown",
   "metadata": {
    "slideshow": {
     "slide_type": "-"
    }
   },
   "source": [
    "![](./figures/imageProcessingChain.png)"
   ]
  },
  {
   "cell_type": "code",
   "execution_count": null,
   "metadata": {
    "collapsed": true
   },
   "outputs": [],
   "source": []
  },
  {
   "cell_type": "code",
   "execution_count": null,
   "metadata": {
    "collapsed": true
   },
   "outputs": [],
   "source": []
  },
  {
   "cell_type": "code",
   "execution_count": null,
   "metadata": {
    "collapsed": true
   },
   "outputs": [],
   "source": []
  },
  {
   "cell_type": "code",
   "execution_count": null,
   "metadata": {
    "collapsed": true
   },
   "outputs": [],
   "source": []
  },
  {
   "cell_type": "code",
   "execution_count": null,
   "metadata": {
    "collapsed": true
   },
   "outputs": [],
   "source": []
  },
  {
   "cell_type": "code",
   "execution_count": null,
   "metadata": {
    "collapsed": true
   },
   "outputs": [],
   "source": []
  }
 ],
 "metadata": {
  "anaconda-cloud": {},
  "celltoolbar": "Slideshow",
  "kernelspec": {
   "display_name": "Python [conda env:tensorFlowEnv]",
   "language": "python",
   "name": "conda-env-tensorFlowEnv-py"
  },
  "language_info": {
   "codemirror_mode": {
    "name": "ipython",
    "version": 2
   },
   "file_extension": ".py",
   "mimetype": "text/x-python",
   "name": "python",
   "nbconvert_exporter": "python",
   "pygments_lexer": "ipython2",
   "version": "2.7.12"
  },
  "latex_envs": {
   "bibliofile": "biblio.bib",
   "cite_by": "apalike",
   "current_citInitial": 1,
   "eqLabelWithNumbers": true,
   "eqNumInitial": 0
  },
  "nav_menu": {},
  "nbpresent": {
   "slides": {
    "03eebf58-dcd4-40d3-9992-9b23cf421835": {
     "id": "03eebf58-dcd4-40d3-9992-9b23cf421835",
     "prev": "bebe6001-6a43-4bd5-9e4f-2504b6534968",
     "regions": {
      "59a29b0e-486d-4c19-9d6f-202a71bb11b0": {
       "attrs": {
        "height": 0.8,
        "width": 0.8,
        "x": 0.09904300566003586,
        "y": 0.09489603018685788
       },
       "id": "59a29b0e-486d-4c19-9d6f-202a71bb11b0"
      },
      "a98f23a9-d833-4a43-a27f-03ef06197d83": {
       "attrs": {
        "height": 0.6536861986899272,
        "width": 0.8,
        "x": 0.1,
        "y": 0.24631380131007294
       },
       "content": {
        "cell": "ac9379cf-2af6-41c4-81ad-239d907c8af2",
        "part": "source"
       },
       "id": "a98f23a9-d833-4a43-a27f-03ef06197d83"
      },
      "ba4e3cdc-b955-47b4-8bdc-4f27c53688f6": {
       "attrs": {
        "height": 0.14083174812108346,
        "width": 0.8057301489872797,
        "x": 0.09665642833637811,
        "y": 0.09697542644969949
       },
       "content": {
        "cell": "7f23e529-fac6-4be1-9c8a-0cd47907827a",
        "part": "source"
       },
       "id": "ba4e3cdc-b955-47b4-8bdc-4f27c53688f6"
      }
     }
    },
    "bebe6001-6a43-4bd5-9e4f-2504b6534968": {
     "id": "bebe6001-6a43-4bd5-9e4f-2504b6534968",
     "prev": null,
     "regions": {
      "1af61b4c-5155-4033-877b-05952b844807": {
       "attrs": {
        "height": 0.5209829835482331,
        "width": 0.8,
        "x": 0.10287098301989242,
        "y": 0.37391304663862485
       },
       "content": {
        "cell": "8e248491-245d-4244-a9fe-fe19c299cb7c",
        "part": "source"
       },
       "id": "1af61b4c-5155-4033-877b-05952b844807"
      },
      "2254e22d-1fd6-4414-a289-fbc86398de71": {
       "attrs": {
        "height": 0.4,
        "width": 0.8,
        "x": 0.10095699433996413,
        "y": 0.0967863847617758
       },
       "content": {
        "cell": "62d7353d-f855-4909-b1c6-0edb3891decd",
        "part": "source"
       },
       "id": "2254e22d-1fd6-4414-a289-fbc86398de71"
      },
      "dbfc8542-a473-4b7c-a4c9-0a65d3f98c38": {
       "attrs": {
        "height": 0.8,
        "width": 0.8,
        "x": 0.1,
        "y": 0.1
       },
       "id": "dbfc8542-a473-4b7c-a4c9-0a65d3f98c38"
      }
     },
     "theme": null
    }
   },
   "themes": {
    "default": "fe4340fa-c11d-448d-9b6c-865695bf855c",
    "theme": {
     "fe4340fa-c11d-448d-9b6c-865695bf855c": {
      "backgrounds": {
       "backgroundColor": {
        "background-color": "backgroundColor",
        "id": "backgroundColor"
       }
      },
      "id": "fe4340fa-c11d-448d-9b6c-865695bf855c",
      "palette": {
       "backgroundColor": {
        "id": "backgroundColor",
        "rgb": [
         17,
         17,
         17
        ]
       },
       "headingColor": {
        "id": "headingColor",
        "rgb": [
         238,
         238,
         238
        ]
       },
       "linkColor": {
        "id": "linkColor",
        "rgb": [
         231,
         173,
         82
        ]
       },
       "mainColor": {
        "id": "mainColor",
        "rgb": [
         238,
         238,
         238
        ]
       }
      },
      "rules": {
       "a": {
        "color": "linkColor"
       },
       "h1": {
        "color": "headingColor",
        "font-family": "Montserrat",
        "font-size": 7
       },
       "h2": {
        "color": "headingColor",
        "font-family": "Montserrat",
        "font-size": 5
       },
       "h3": {
        "color": "headingColor",
        "font-family": "Montserrat",
        "font-size": 3.75
       },
       "h4": {
        "color": "headingColor",
        "font-family": "Montserrat",
        "font-size": 3
       },
       "h5": {
        "color": "headingColor",
        "font-family": "Montserrat"
       },
       "h6": {
        "color": "headingColor",
        "font-family": "Montserrat"
       },
       "h7": {
        "color": "headingColor",
        "font-family": "Montserrat"
       },
       "li": {
        "color": "mainColor",
        "font-family": "Open Sans",
        "font-size": 4
       },
       "p": {
        "color": "mainColor",
        "font-family": "Open Sans",
        "font-size": 4
       }
      },
      "text-base": {
       "color": "mainColor",
       "font-family": "Open Sans",
       "font-size": 4
      }
     }
    }
   }
  },
  "toc": {
   "navigate_menu": true,
   "number_sections": false,
   "sideBar": true,
   "threshold": 6,
   "toc_cell": true,
   "toc_section_display": "block",
   "toc_window_display": true
  }
 },
 "nbformat": 4,
 "nbformat_minor": 0
}
